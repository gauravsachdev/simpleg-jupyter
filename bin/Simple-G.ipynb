{
 "cells": [
  {
   "cell_type": "code",
   "execution_count": 1,
   "metadata": {
    "scrolled": true
   },
   "outputs": [
    {
     "data": {
      "text/html": [
       "<!-- style.html: General app CSS -->\n",
       "<style>\n",
       ".jupyter-widgets.widget-tab > .p-TabBar .p-TabBar-tab {\n",
       "    flex              : 0 1 300px\n",
       "}\n",
       ".p-Collapse-header {\n",
       "    color             : white !important;\n",
       "    background-color  : steelblue !important;\n",
       "    padding-top       : 3px;\n",
       "    padding-bottom    : 3px;\n",
       "}\n",
       ".p-TabBar-tabLabel {\n",
       "    font-weight       : bold !important;\n",
       "    color             : steelblue !important;\n",
       "    margin-top        : 1em !important;\n",
       "    margin-bottom     : 1em !important;\n",
       "}\n",
       ".widget-label {\n",
       "    text-align        : right;\n",
       "}\n",
       "p {\n",
       "    line-height       : 1.2em;\n",
       "    margin-bottom     : 1em;\n",
       "}\n",
       "/* Avoid output scrollbars (sub-windowing) */\n",
       ".output_wrapper, .output {\n",
       "    height            : auto !important;\n",
       "    max-height        : 99999px;\n",
       "}\n",
       ".output_scroll {\n",
       "    box-shadow        : none !important;\n",
       "    webkit-box-shadow : none !important;\n",
       "    /* height            : 44em;   Expand output cells */\n",
       "}\n",
       "#site {\n",
       "    height            : 100% !important;\n",
       "}\n",
       ".prompt {\n",
       "    min-width         : 1px !important; /* Collapse left margin */\n",
       "}\n",
       "pre {\n",
       "    user-select       : all;\n",
       "}\n",
       "img {\n",
       "  display: block;\n",
       "  margin-left: auto;\n",
       "  margin-right: auto;\n",
       " }\n",
       "</style>"
      ],
      "text/plain": [
       "<IPython.core.display.HTML object>"
      ]
     },
     "metadata": {},
     "output_type": "display_data"
    },
    {
     "data": {
      "text/html": [
       "<!-- header.html: Notebook-specific CSS and title -->\n",
       "<style>\n",
       ".this_nb_title {\n",
       "    font-weight      : bold;\n",
       "    color            : steelblue;\n",
       "    background-color : transparent;\n",
       "    font-size        : 22px;\n",
       "    border           : 0px;\n",
       "    padding          : 0px;\n",
       "}\n",
       "/* Cause plotly to display \"modebar\" */\n",
       ".container {\n",
       "    min-width        : 1200px !important;\n",
       "}\n",
       "</style>\n",
       "<span class=\"this_nb_title\">SimpleG-US</span>"
      ],
      "text/plain": [
       "<IPython.core.display.HTML object>"
      ]
     },
     "metadata": {},
     "output_type": "display_data"
    },
    {
     "name": "stdout",
     "output_type": "stream",
     "text": [
      "{}\n"
     ]
    },
    {
     "data": {
      "application/vnd.jupyter.widget-view+json": {
       "model_id": "bcaad3489ef144c29d2cd38d2d7a0b82",
       "version_major": 2,
       "version_minor": 0
      },
      "text/plain": [
       "Tab(children=(VBox(children=(Accordion(children=(VBox(children=(VBox(children=(VBox(children=(Label(value='Ins…"
      ]
     },
     "metadata": {},
     "output_type": "display_data"
    },
    {
     "name": "stdout",
     "output_type": "stream",
     "text": [
      "/data/groups/simpleggroup/job/1/outputs/results/Environment/Geospatial/p_QNLEACHha_g/PCT/p_QNLEACHha_g.tif\n",
      "filtering succeeded\n",
      "min, max (-76.859149526884, 60.457096697871)\n",
      "tile folder /home/mygeohub/sachdevg/SimpleGTool/shared_jobs/1/p_QNLEACHha_g\n",
      "Generating Base Tiles:\n",
      "0...10...20...30...40...50...60...70...80...90...100\n",
      "Generating Overview Tiles:\n",
      "0...10...20...30...40...50...60...70...80...90...100\n",
      "/data/groups/simpleggroup/job/4/outputs/results/Environment/Geospatial/p_QNLEACHha_g/PCT/p_QNLEACHha_g.tif\n",
      "[Errno 2] No such file or directory: '/home/mygeohub/sachdevg/SimpleGTool/shared_jobs/4/p_QNLEACHha_g'\n",
      "filtering succeeded\n",
      "min, max (-92.591065173203, 0.0023010941783253)\n",
      "tile folder /home/mygeohub/sachdevg/SimpleGTool/shared_jobs/4/p_QNLEACHha_g\n",
      "Generating Base Tiles:\n",
      "0...10...20...30...40...50...60...70..."
     ]
    }
   ],
   "source": [
    "#Import from scripts folder\n",
    "from scripts import model      as sg_model\n",
    "from scripts import view       as sg_view\n",
    "from scripts import controller as sg_controller\n",
    "\n",
    "from IPython.display import HTML\n",
    "\n",
    "display(HTML(filename='style.html'))  # Generic app appearance \n",
    "display(HTML(filename='header.html')) # Notebook-specific title and style\n",
    "\n",
    "# Create MVC objects\n",
    "model = sg_model.Model()\n",
    "view  = sg_view.View()\n",
    "ctrl  = sg_controller.Controller(log_mode=0) # 0=none 1=info 2=debug\n",
    "\n",
    "# Inform MVC objects of each other\n",
    "model.intro(view,ctrl)\n",
    "view.intro(model,ctrl)\n",
    "ctrl.intro(model,view)\n",
    "\n",
    "# Run the notebook\n",
    "ctrl.start()"
   ]
  },
  {
   "cell_type": "code",
   "execution_count": null,
   "metadata": {},
   "outputs": [],
   "source": []
  }
 ],
 "metadata": {
  "kernelspec": {
   "display_name": "Python3 (qgis)",
   "language": "python",
   "name": "qgis"
  },
  "language_info": {
   "codemirror_mode": {
    "name": "ipython",
    "version": 3
   },
   "file_extension": ".py",
   "mimetype": "text/x-python",
   "name": "python",
   "nbconvert_exporter": "python",
   "pygments_lexer": "ipython3",
   "version": "3.8.3"
  }
 },
 "nbformat": 4,
 "nbformat_minor": 4
}
